{
 "cells": [
  {
   "cell_type": "markdown",
   "metadata": {},
   "source": [
    "# Plotting Maps &mdash; COVID-19 Cases\n",
    "## Requirements\n",
    "You will need to install the `cartopy` Python package as well as some additional dependencies. Follow the instructions [here](https://scitools.org.uk/cartopy/docs/latest/installing.html#installing) for setup.\n",
    "\n",
    "## Data Wrangling\n",
    "In this notebook, we will use the European Centre for Disease Prevention and Control's (ECDC) [daily number of new reported cases of COVID-19 by country worldwide dataset](https://www.ecdc.europa.eu/en/publications-data/download-todays-data-geographic-distribution-covid-19-cases-worldwide) most recent file. Should this no longer work, read in the data from the lab which is a snapshot collected on September 19, 2020:\n",
    "\n",
    "```python\n",
    "df = pd.read_csv('data/covid19_cases.csv')\n",
    "```\n",
    "\n",
    "First, we collect the data and summarize it to get cumulative cases by country:"
   ]
  },
  {
   "cell_type": "code",
   "execution_count": null,
   "metadata": {},
   "outputs": [],
   "source": [
    "import pandas as pd\n",
    "\n",
    "# read in the latest COVID-19 data from the European Centre for Disease Prevention and Control (ECDC)\n",
    "df = pd.read_csv('https://opendata.ecdc.europa.eu/covid19/casedistribution/csv').rename(columns={'cases_weekly': 'cases'})\n",
    "\n",
    "# summarize the COVID-19 data to get cumulative cases by country\n",
    "total_cases_per_country = df.groupby('countriesAndTerritories').cases.sum().rename(lambda x: x.replace('_', ' '), axis=0)"
   ]
  },
  {
   "cell_type": "markdown",
   "metadata": {},
   "source": [
    "## Plotting Countries with Matplotlib and Cartopy"
   ]
  },
  {
   "cell_type": "code",
   "execution_count": null,
   "metadata": {},
   "outputs": [],
   "source": [
    "%matplotlib inline\n",
    "import cartopy.crs as ccrs\n",
    "import cartopy.io.shapereader as shpreader\n",
    "import matplotlib.pyplot as plt\n",
    "from matplotlib import cm\n",
    "from matplotlib.ticker import EngFormatter, MaxNLocator\n",
    "import numpy as np\n",
    "import color_utils\n",
    "\n",
    "# build layout\n",
    "fig = plt.figure(figsize=(20, 15))\n",
    "gs = fig.add_gridspec(1, 10)\n",
    "map_subplot = fig.add_subplot(gs[0, :9], projection=ccrs.PlateCarree())\n",
    "cbar_subplot = fig.add_subplot(gs[0, 9])\n",
    "\n",
    "# select the colormap; remember this is a callable so colormap(0.5) \n",
    "# will give us the color at the midpoint, so we will need to scale \n",
    "# the cases to be in [0, 1] (we will divide by the max number of cases)\n",
    "colormap = cm.get_cmap('Oranges')\n",
    "\n",
    "# names that are different in the shapefile versus the COVID-19 data\n",
    "alternate_names = {\n",
    "    'Tanzania': 'United Republic of Tanzania',\n",
    "    'The Bahamas': 'Bahamas',\n",
    "    'Falkland Islands': 'Falkland Islands (Malvinas)',\n",
    "    'Somaliland': 'Somalia',\n",
    "    'Republic of Macedonia': 'North Macedonia',\n",
    "    'East Timor': 'Timor Leste',\n",
    "    'Ivory Coast': 'Cote dIvoire',\n",
    "    'Guinea-Bissau': 'Guinea Bissau',\n",
    "    'Republic of the Congo': 'Democratic Republic of the Congo',\n",
    "    'eSwatini': 'Eswatini',\n",
    "    'The Gambia': 'Gambia',\n",
    "    \"People's Republic of China\": 'China',\n",
    "    'Brunei': 'Brunei Darussalam',\n",
    "    'Czech Republic': 'Czechia'\n",
    "}\n",
    "\n",
    "# get shapefile for drawing the map\n",
    "countries_shp = shpreader.natural_earth(\n",
    "    resolution='110m', category='cultural', name='admin_0_countries'\n",
    ")\n",
    "\n",
    "# add countries to the plot, shading them by the number of cases of COVID-19\n",
    "for country in shpreader.Reader(countries_shp).records():\n",
    "    country_name = country.attributes['NAME_EN']\n",
    "    country_name = alternate_names.get(country_name, country_name)\n",
    "    map_subplot.add_geometries(\n",
    "        [country.geometry], \n",
    "        ccrs.PlateCarree(),\n",
    "        facecolor=colormap(total_cases_per_country.get(country_name, 0) / total_cases_per_country.max()),\n",
    "        label=country_name\n",
    "    )\n",
    "\n",
    "# create a colorbar for the map\n",
    "cbar = color_utils.draw_cmap(\n",
    "    colormap, \n",
    "    values=np.array([np.concatenate([[0], total_cases_per_country])]), \n",
    "    orientation='vertical', \n",
    "    ax=cbar_subplot\n",
    ")\n",
    "cbar.ax.yaxis.set_major_formatter(EngFormatter())\n",
    "cbar.ax.yaxis.set_major_locator(MaxNLocator(5))\n",
    "max_full_day = pd.to_datetime(df.dateRep, format='%d/%m/%Y').max()\n",
    "cbar.ax.set_title(f'COVID-19 cases\\n(as of {max_full_day.strftime(\"%b %d, %Y\")})')\n",
    "\n",
    "# remove the box around the map\n",
    "for spine in map_subplot.spines:\n",
    "    map_subplot.spines[spine].set_visible(False)"
   ]
  }
 ],
 "metadata": {
  "kernelspec": {
   "display_name": "Python 3",
   "language": "python",
   "name": "python3"
  },
  "language_info": {
   "codemirror_mode": {
    "name": "ipython",
    "version": 3
   },
   "file_extension": ".py",
   "mimetype": "text/x-python",
   "name": "python",
   "nbconvert_exporter": "python",
   "pygments_lexer": "ipython3",
   "version": "3.8.6"
  }
 },
 "nbformat": 4,
 "nbformat_minor": 4
}
